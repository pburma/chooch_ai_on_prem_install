{
 "cells": [
  {
   "cell_type": "code",
   "execution_count": 6,
   "metadata": {},
   "outputs": [],
   "source": [
    "\n",
    "replacement_list = []\n",
    "replacement_val = {}\n",
    "replacement_val[\"key_id\"] = \"{run_command}\"\n",
    "replacement_val[\"key_val\"] = \"test_88888\"\n",
    "replacement_list.append(replacement_val)\n",
    "\n",
    "\n",
    "\n",
    "\n",
    "with open('chooch_predict_on_prem_base.service') as infile, open('chooch_predict_on_prem_base_out.service', 'w') as outfile:\n",
    "    for line in infile:\n",
    "        for item in replacement_list:\n",
    "            line = line.replace(item[\"key_id\"], item[\"key_val\"])\n",
    "        outfile.write(line)"
   ]
  },
  {
   "cell_type": "code",
   "execution_count": null,
   "metadata": {},
   "outputs": [],
   "source": []
  }
 ],
 "metadata": {
  "kernelspec": {
   "display_name": "Environment (conda_tensorflow_p36)",
   "language": "python",
   "name": "conda_tensorflow_p36"
  },
  "language_info": {
   "codemirror_mode": {
    "name": "ipython",
    "version": 3
   },
   "file_extension": ".py",
   "mimetype": "text/x-python",
   "name": "python",
   "nbconvert_exporter": "python",
   "pygments_lexer": "ipython3",
   "version": "3.6.10"
  }
 },
 "nbformat": 4,
 "nbformat_minor": 4
}
